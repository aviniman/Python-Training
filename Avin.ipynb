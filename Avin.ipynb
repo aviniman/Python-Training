{
  "cells": [
    {
      "metadata": {
        "trusted": true
      },
      "cell_type": "code",
      "source": "import pandas as pd",
      "execution_count": 3,
      "outputs": []
    },
    {
      "metadata": {
        "trusted": true
      },
      "cell_type": "code",
      "source": "import os",
      "execution_count": 4,
      "outputs": []
    },
    {
      "metadata": {
        "trusted": true
      },
      "cell_type": "code",
      "source": "print(os.getcwd())",
      "execution_count": 5,
      "outputs": [
        {
          "output_type": "stream",
          "text": "/home/nbuser/library\n",
          "name": "stdout"
        }
      ]
    },
    {
      "metadata": {
        "trusted": true
      },
      "cell_type": "code",
      "source": "print(os.listdir())",
      "execution_count": 6,
      "outputs": [
        {
          "output_type": "stream",
          "text": "['README.md', 'stateData.csv', 'Avin-Copy.ipynb', '.ipynb_checkpoints', 'Avin.ipynb', 'yogurt.csv']\n",
          "name": "stdout"
        }
      ]
    },
    {
      "metadata": {
        "trusted": true
      },
      "cell_type": "code",
      "source": "df=pd.read_csv(\"stateData.csv\")",
      "execution_count": 7,
      "outputs": []
    },
    {
      "metadata": {
        "trusted": true
      },
      "cell_type": "code",
      "source": "df.info()",
      "execution_count": 8,
      "outputs": [
        {
          "output_type": "stream",
          "text": "<class 'pandas.core.frame.DataFrame'>\nRangeIndex: 50 entries, 0 to 49\nData columns (total 12 columns):\nUnnamed: 0        50 non-null object\nstate.abb         50 non-null object\nstate.area        50 non-null int64\nstate.region      50 non-null int64\npopulation        50 non-null int64\nincome            50 non-null int64\nilliteracy        50 non-null float64\nlife.exp          50 non-null float64\nmurder            50 non-null float64\nhighSchoolGrad    50 non-null float64\nfrost             50 non-null int64\narea              50 non-null int64\ndtypes: float64(4), int64(6), object(2)\nmemory usage: 4.8+ KB\n",
          "name": "stdout"
        }
      ]
    },
    {
      "metadata": {
        "trusted": true
      },
      "cell_type": "code",
      "source": "df.head()",
      "execution_count": 9,
      "outputs": [
        {
          "output_type": "execute_result",
          "execution_count": 9,
          "data": {
            "text/html": "<div>\n<style scoped>\n    .dataframe tbody tr th:only-of-type {\n        vertical-align: middle;\n    }\n\n    .dataframe tbody tr th {\n        vertical-align: top;\n    }\n\n    .dataframe thead th {\n        text-align: right;\n    }\n</style>\n<table border=\"1\" class=\"dataframe\">\n  <thead>\n    <tr style=\"text-align: right;\">\n      <th></th>\n      <th>Unnamed: 0</th>\n      <th>state.abb</th>\n      <th>state.area</th>\n      <th>state.region</th>\n      <th>population</th>\n      <th>income</th>\n      <th>illiteracy</th>\n      <th>life.exp</th>\n      <th>murder</th>\n      <th>highSchoolGrad</th>\n      <th>frost</th>\n      <th>area</th>\n    </tr>\n  </thead>\n  <tbody>\n    <tr>\n      <th>0</th>\n      <td>Alabama</td>\n      <td>AL</td>\n      <td>51609</td>\n      <td>2</td>\n      <td>3615</td>\n      <td>3624</td>\n      <td>2.1</td>\n      <td>69.05</td>\n      <td>15.1</td>\n      <td>41.3</td>\n      <td>20</td>\n      <td>50708</td>\n    </tr>\n    <tr>\n      <th>1</th>\n      <td>Alaska</td>\n      <td>AK</td>\n      <td>589757</td>\n      <td>4</td>\n      <td>365</td>\n      <td>6315</td>\n      <td>1.5</td>\n      <td>69.31</td>\n      <td>11.3</td>\n      <td>66.7</td>\n      <td>152</td>\n      <td>566432</td>\n    </tr>\n    <tr>\n      <th>2</th>\n      <td>Arizona</td>\n      <td>AZ</td>\n      <td>113909</td>\n      <td>4</td>\n      <td>2212</td>\n      <td>4530</td>\n      <td>1.8</td>\n      <td>70.55</td>\n      <td>7.8</td>\n      <td>58.1</td>\n      <td>15</td>\n      <td>113417</td>\n    </tr>\n    <tr>\n      <th>3</th>\n      <td>Arkansas</td>\n      <td>AR</td>\n      <td>53104</td>\n      <td>2</td>\n      <td>2110</td>\n      <td>3378</td>\n      <td>1.9</td>\n      <td>70.66</td>\n      <td>10.1</td>\n      <td>39.9</td>\n      <td>65</td>\n      <td>51945</td>\n    </tr>\n    <tr>\n      <th>4</th>\n      <td>California</td>\n      <td>CA</td>\n      <td>158693</td>\n      <td>4</td>\n      <td>21198</td>\n      <td>5114</td>\n      <td>1.1</td>\n      <td>71.71</td>\n      <td>10.3</td>\n      <td>62.6</td>\n      <td>20</td>\n      <td>156361</td>\n    </tr>\n  </tbody>\n</table>\n</div>",
            "text/plain": "   Unnamed: 0 state.abb  state.area  state.region  population  income  \\\n0     Alabama        AL       51609             2        3615    3624   \n1      Alaska        AK      589757             4         365    6315   \n2     Arizona        AZ      113909             4        2212    4530   \n3    Arkansas        AR       53104             2        2110    3378   \n4  California        CA      158693             4       21198    5114   \n\n   illiteracy  life.exp  murder  highSchoolGrad  frost    area  \n0         2.1     69.05    15.1            41.3     20   50708  \n1         1.5     69.31    11.3            66.7    152  566432  \n2         1.8     70.55     7.8            58.1     15  113417  \n3         1.9     70.66    10.1            39.9     65   51945  \n4         1.1     71.71    10.3            62.6     20  156361  "
          },
          "metadata": {}
        }
      ]
    },
    {
      "metadata": {
        "trusted": true
      },
      "cell_type": "code",
      "source": "df.index",
      "execution_count": 10,
      "outputs": [
        {
          "output_type": "execute_result",
          "execution_count": 10,
          "data": {
            "text/plain": "RangeIndex(start=0, stop=50, step=1)"
          },
          "metadata": {}
        }
      ]
    },
    {
      "metadata": {
        "trusted": true
      },
      "cell_type": "code",
      "source": "print(df.index)",
      "execution_count": 11,
      "outputs": [
        {
          "output_type": "stream",
          "text": "RangeIndex(start=0, stop=50, step=1)\n",
          "name": "stdout"
        }
      ]
    },
    {
      "metadata": {
        "trusted": true
      },
      "cell_type": "code",
      "source": "df.columns",
      "execution_count": 12,
      "outputs": [
        {
          "output_type": "execute_result",
          "execution_count": 12,
          "data": {
            "text/plain": "Index(['Unnamed: 0', 'state.abb', 'state.area', 'state.region', 'population',\n       'income', 'illiteracy', 'life.exp', 'murder', 'highSchoolGrad', 'frost',\n       'area'],\n      dtype='object')"
          },
          "metadata": {}
        }
      ]
    },
    {
      "metadata": {
        "trusted": true
      },
      "cell_type": "code",
      "source": "import numpy as np",
      "execution_count": 13,
      "outputs": []
    },
    {
      "metadata": {
        "trusted": true
      },
      "cell_type": "code",
      "source": "df['log_inc']=np.log(df['income'])",
      "execution_count": 14,
      "outputs": []
    },
    {
      "metadata": {
        "trusted": true
      },
      "cell_type": "code",
      "source": "df['log_lifexp']=np.log(df['life.exp'])",
      "execution_count": 15,
      "outputs": []
    },
    {
      "metadata": {
        "trusted": true
      },
      "cell_type": "code",
      "source": "df.head()",
      "execution_count": 16,
      "outputs": [
        {
          "output_type": "execute_result",
          "execution_count": 16,
          "data": {
            "text/html": "<div>\n<style scoped>\n    .dataframe tbody tr th:only-of-type {\n        vertical-align: middle;\n    }\n\n    .dataframe tbody tr th {\n        vertical-align: top;\n    }\n\n    .dataframe thead th {\n        text-align: right;\n    }\n</style>\n<table border=\"1\" class=\"dataframe\">\n  <thead>\n    <tr style=\"text-align: right;\">\n      <th></th>\n      <th>Unnamed: 0</th>\n      <th>state.abb</th>\n      <th>state.area</th>\n      <th>state.region</th>\n      <th>population</th>\n      <th>income</th>\n      <th>illiteracy</th>\n      <th>life.exp</th>\n      <th>murder</th>\n      <th>highSchoolGrad</th>\n      <th>frost</th>\n      <th>area</th>\n      <th>log_inc</th>\n      <th>log_lifexp</th>\n    </tr>\n  </thead>\n  <tbody>\n    <tr>\n      <th>0</th>\n      <td>Alabama</td>\n      <td>AL</td>\n      <td>51609</td>\n      <td>2</td>\n      <td>3615</td>\n      <td>3624</td>\n      <td>2.1</td>\n      <td>69.05</td>\n      <td>15.1</td>\n      <td>41.3</td>\n      <td>20</td>\n      <td>50708</td>\n      <td>8.195334</td>\n      <td>4.234831</td>\n    </tr>\n    <tr>\n      <th>1</th>\n      <td>Alaska</td>\n      <td>AK</td>\n      <td>589757</td>\n      <td>4</td>\n      <td>365</td>\n      <td>6315</td>\n      <td>1.5</td>\n      <td>69.31</td>\n      <td>11.3</td>\n      <td>66.7</td>\n      <td>152</td>\n      <td>566432</td>\n      <td>8.750683</td>\n      <td>4.238589</td>\n    </tr>\n    <tr>\n      <th>2</th>\n      <td>Arizona</td>\n      <td>AZ</td>\n      <td>113909</td>\n      <td>4</td>\n      <td>2212</td>\n      <td>4530</td>\n      <td>1.8</td>\n      <td>70.55</td>\n      <td>7.8</td>\n      <td>58.1</td>\n      <td>15</td>\n      <td>113417</td>\n      <td>8.418477</td>\n      <td>4.256322</td>\n    </tr>\n    <tr>\n      <th>3</th>\n      <td>Arkansas</td>\n      <td>AR</td>\n      <td>53104</td>\n      <td>2</td>\n      <td>2110</td>\n      <td>3378</td>\n      <td>1.9</td>\n      <td>70.66</td>\n      <td>10.1</td>\n      <td>39.9</td>\n      <td>65</td>\n      <td>51945</td>\n      <td>8.125039</td>\n      <td>4.257880</td>\n    </tr>\n    <tr>\n      <th>4</th>\n      <td>California</td>\n      <td>CA</td>\n      <td>158693</td>\n      <td>4</td>\n      <td>21198</td>\n      <td>5114</td>\n      <td>1.1</td>\n      <td>71.71</td>\n      <td>10.3</td>\n      <td>62.6</td>\n      <td>20</td>\n      <td>156361</td>\n      <td>8.539737</td>\n      <td>4.272630</td>\n    </tr>\n  </tbody>\n</table>\n</div>",
            "text/plain": "   Unnamed: 0 state.abb  state.area  state.region  population  income  \\\n0     Alabama        AL       51609             2        3615    3624   \n1      Alaska        AK      589757             4         365    6315   \n2     Arizona        AZ      113909             4        2212    4530   \n3    Arkansas        AR       53104             2        2110    3378   \n4  California        CA      158693             4       21198    5114   \n\n   illiteracy  life.exp  murder  highSchoolGrad  frost    area   log_inc  \\\n0         2.1     69.05    15.1            41.3     20   50708  8.195334   \n1         1.5     69.31    11.3            66.7    152  566432  8.750683   \n2         1.8     70.55     7.8            58.1     15  113417  8.418477   \n3         1.9     70.66    10.1            39.9     65   51945  8.125039   \n4         1.1     71.71    10.3            62.6     20  156361  8.539737   \n\n   log_lifexp  \n0    4.234831  \n1    4.238589  \n2    4.256322  \n3    4.257880  \n4    4.272630  "
          },
          "metadata": {}
        }
      ]
    },
    {
      "metadata": {
        "trusted": true
      },
      "cell_type": "code",
      "source": "df.describe()",
      "execution_count": 17,
      "outputs": [
        {
          "output_type": "execute_result",
          "execution_count": 17,
          "data": {
            "text/html": "<div>\n<style scoped>\n    .dataframe tbody tr th:only-of-type {\n        vertical-align: middle;\n    }\n\n    .dataframe tbody tr th {\n        vertical-align: top;\n    }\n\n    .dataframe thead th {\n        text-align: right;\n    }\n</style>\n<table border=\"1\" class=\"dataframe\">\n  <thead>\n    <tr style=\"text-align: right;\">\n      <th></th>\n      <th>state.area</th>\n      <th>state.region</th>\n      <th>population</th>\n      <th>income</th>\n      <th>illiteracy</th>\n      <th>life.exp</th>\n      <th>murder</th>\n      <th>highSchoolGrad</th>\n      <th>frost</th>\n      <th>area</th>\n      <th>log_inc</th>\n      <th>log_lifexp</th>\n    </tr>\n  </thead>\n  <tbody>\n    <tr>\n      <th>count</th>\n      <td>50.000000</td>\n      <td>50.000000</td>\n      <td>50.000000</td>\n      <td>50.000000</td>\n      <td>50.000000</td>\n      <td>50.000000</td>\n      <td>50.00000</td>\n      <td>50.000000</td>\n      <td>50.000000</td>\n      <td>50.000000</td>\n      <td>50.000000</td>\n      <td>50.000000</td>\n    </tr>\n    <tr>\n      <th>mean</th>\n      <td>72367.980000</td>\n      <td>2.580000</td>\n      <td>4246.420000</td>\n      <td>4435.800000</td>\n      <td>1.170000</td>\n      <td>70.878600</td>\n      <td>7.37800</td>\n      <td>53.108000</td>\n      <td>104.460000</td>\n      <td>70735.880000</td>\n      <td>8.387963</td>\n      <td>4.260792</td>\n    </tr>\n    <tr>\n      <th>std</th>\n      <td>88278.006201</td>\n      <td>1.070762</td>\n      <td>4464.491433</td>\n      <td>614.469939</td>\n      <td>0.609533</td>\n      <td>1.342394</td>\n      <td>3.69154</td>\n      <td>8.076998</td>\n      <td>51.980848</td>\n      <td>85327.299622</td>\n      <td>0.139931</td>\n      <td>0.018974</td>\n    </tr>\n    <tr>\n      <th>min</th>\n      <td>1214.000000</td>\n      <td>1.000000</td>\n      <td>365.000000</td>\n      <td>3098.000000</td>\n      <td>0.500000</td>\n      <td>67.960000</td>\n      <td>1.40000</td>\n      <td>37.800000</td>\n      <td>0.000000</td>\n      <td>1049.000000</td>\n      <td>8.038512</td>\n      <td>4.218919</td>\n    </tr>\n    <tr>\n      <th>25%</th>\n      <td>37317.000000</td>\n      <td>2.000000</td>\n      <td>1079.500000</td>\n      <td>3992.750000</td>\n      <td>0.625000</td>\n      <td>70.117500</td>\n      <td>4.35000</td>\n      <td>48.050000</td>\n      <td>66.250000</td>\n      <td>36985.250000</td>\n      <td>8.292227</td>\n      <td>4.250172</td>\n    </tr>\n    <tr>\n      <th>50%</th>\n      <td>56222.000000</td>\n      <td>2.500000</td>\n      <td>2838.500000</td>\n      <td>4519.000000</td>\n      <td>0.950000</td>\n      <td>70.675000</td>\n      <td>6.85000</td>\n      <td>53.250000</td>\n      <td>114.500000</td>\n      <td>54277.000000</td>\n      <td>8.416043</td>\n      <td>4.258092</td>\n    </tr>\n    <tr>\n      <th>75%</th>\n      <td>83233.750000</td>\n      <td>3.750000</td>\n      <td>4968.500000</td>\n      <td>4813.500000</td>\n      <td>1.575000</td>\n      <td>71.892500</td>\n      <td>10.67500</td>\n      <td>59.150000</td>\n      <td>139.750000</td>\n      <td>81162.500000</td>\n      <td>8.479180</td>\n      <td>4.275172</td>\n    </tr>\n    <tr>\n      <th>max</th>\n      <td>589757.000000</td>\n      <td>4.000000</td>\n      <td>21198.000000</td>\n      <td>6315.000000</td>\n      <td>2.800000</td>\n      <td>73.600000</td>\n      <td>15.10000</td>\n      <td>67.300000</td>\n      <td>188.000000</td>\n      <td>566432.000000</td>\n      <td>8.750683</td>\n      <td>4.298645</td>\n    </tr>\n  </tbody>\n</table>\n</div>",
            "text/plain": "          state.area  state.region    population       income  illiteracy  \\\ncount      50.000000     50.000000     50.000000    50.000000   50.000000   \nmean    72367.980000      2.580000   4246.420000  4435.800000    1.170000   \nstd     88278.006201      1.070762   4464.491433   614.469939    0.609533   \nmin      1214.000000      1.000000    365.000000  3098.000000    0.500000   \n25%     37317.000000      2.000000   1079.500000  3992.750000    0.625000   \n50%     56222.000000      2.500000   2838.500000  4519.000000    0.950000   \n75%     83233.750000      3.750000   4968.500000  4813.500000    1.575000   \nmax    589757.000000      4.000000  21198.000000  6315.000000    2.800000   \n\n        life.exp    murder  highSchoolGrad       frost           area  \\\ncount  50.000000  50.00000       50.000000   50.000000      50.000000   \nmean   70.878600   7.37800       53.108000  104.460000   70735.880000   \nstd     1.342394   3.69154        8.076998   51.980848   85327.299622   \nmin    67.960000   1.40000       37.800000    0.000000    1049.000000   \n25%    70.117500   4.35000       48.050000   66.250000   36985.250000   \n50%    70.675000   6.85000       53.250000  114.500000   54277.000000   \n75%    71.892500  10.67500       59.150000  139.750000   81162.500000   \nmax    73.600000  15.10000       67.300000  188.000000  566432.000000   \n\n         log_inc  log_lifexp  \ncount  50.000000   50.000000  \nmean    8.387963    4.260792  \nstd     0.139931    0.018974  \nmin     8.038512    4.218919  \n25%     8.292227    4.250172  \n50%     8.416043    4.258092  \n75%     8.479180    4.275172  \nmax     8.750683    4.298645  "
          },
          "metadata": {}
        }
      ]
    },
    {
      "metadata": {
        "trusted": true
      },
      "cell_type": "code",
      "source": "import seaborn as sns\n%matplotlib inline",
      "execution_count": 18,
      "outputs": []
    },
    {
      "metadata": {
        "trusted": true
      },
      "cell_type": "code",
      "source": "sns.pairplot(df, x_vars=['murder'], y_vars=['illiteracy'], size=5, aspect=0.7, kind='scatter')",
      "execution_count": 19,
      "outputs": [
        {
          "output_type": "stream",
          "text": "/home/nbuser/anaconda3_501/lib/python3.6/site-packages/seaborn/axisgrid.py:2065: UserWarning: The `size` parameter has been renamed to `height`; pleaes update your code.\n  warnings.warn(msg, UserWarning)\n",
          "name": "stderr"
        },
        {
          "output_type": "execute_result",
          "execution_count": 19,
          "data": {
            "text/plain": "<seaborn.axisgrid.PairGrid at 0x7fe2b25336a0>"
          },
          "metadata": {}
        },
        {
          "output_type": "display_data",
          "data": {
            "image/png": "[encoded data removed]",
            "text/plain": "<Figure size 252x360 with 1 Axes>"
          },
          "metadata": {
            "needs_background": "light"
          }
        }
      ]
    },
    {
      "metadata": {
        "trusted": true
      },
      "cell_type": "code",
      "source": "X=df['murder']",
      "execution_count": 20,
      "outputs": []
    },
    {
      "metadata": {
        "trusted": true
      },
      "cell_type": "code",
      "source": "Y=df['illiteracy']",
      "execution_count": 21,
      "outputs": []
    },
    {
      "metadata": {
        "trusted": true
      },
      "cell_type": "code",
      "source": "type(X)",
      "execution_count": 22,
      "outputs": [
        {
          "output_type": "execute_result",
          "execution_count": 22,
          "data": {
            "text/plain": "pandas.core.series.Series"
          },
          "metadata": {}
        }
      ]
    },
    {
      "metadata": {
        "trusted": true
      },
      "cell_type": "code",
      "source": "from sklearn.cross_validation import train_test_split",
      "execution_count": 23,
      "outputs": [
        {
          "output_type": "stream",
          "text": "/home/nbuser/anaconda3_501/lib/python3.6/site-packages/sklearn/cross_validation.py:41: DeprecationWarning: This module was deprecated in version 0.18 in favor of the model_selection module into which all the refactored classes and functions are moved. Also note that the interface of the new CV iterators are different from that of this module. This module will be removed in 0.20.\n  \"This module will be removed in 0.20.\", DeprecationWarning)\n",
          "name": "stderr"
        }
      ]
    },
    {
      "metadata": {
        "trusted": true
      },
      "cell_type": "code",
      "source": "X_train, X_test, Y_train, Y_test = train_test_split(X, Y, train_size=0.7, random_state=100)",
      "execution_count": 24,
      "outputs": []
    },
    {
      "metadata": {
        "trusted": true
      },
      "cell_type": "code",
      "source": "X_train. shape",
      "execution_count": 25,
      "outputs": [
        {
          "output_type": "execute_result",
          "execution_count": 25,
          "data": {
            "text/plain": "(35,)"
          },
          "metadata": {}
        }
      ]
    },
    {
      "metadata": {
        "trusted": true
      },
      "cell_type": "code",
      "source": "type(X_train)",
      "execution_count": 26,
      "outputs": [
        {
          "output_type": "execute_result",
          "execution_count": 26,
          "data": {
            "text/plain": "pandas.core.series.Series"
          },
          "metadata": {}
        }
      ]
    },
    {
      "metadata": {
        "trusted": true
      },
      "cell_type": "code",
      "source": "X_train = X_train[:, np.newaxis]\nY_train = Y_train[:, np.newaxis]\nX_test = X_test[:, np.newaxis]\nY_test = Y_test[:, np.newaxis]",
      "execution_count": 27,
      "outputs": []
    },
    {
      "metadata": {
        "trusted": true
      },
      "cell_type": "code",
      "source": "print(X_train.shape)\nprint(X_test.shape)\nprint(Y_train.shape)\nprint(Y_test.shape)",
      "execution_count": 175,
      "outputs": [
        {
          "output_type": "stream",
          "text": "(35, 1)\n(15, 1)\n(35, 1)\n(15, 1)\n",
          "name": "stdout"
        }
      ]
    },
    {
      "metadata": {
        "trusted": true
      },
      "cell_type": "code",
      "source": "type(X_train)",
      "execution_count": 28,
      "outputs": [
        {
          "output_type": "execute_result",
          "execution_count": 28,
          "data": {
            "text/plain": "numpy.ndarray"
          },
          "metadata": {}
        }
      ]
    },
    {
      "metadata": {
        "trusted": true
      },
      "cell_type": "code",
      "source": "X_test",
      "execution_count": 192,
      "outputs": [
        {
          "output_type": "execute_result",
          "execution_count": 192,
          "data": {
            "text/plain": "array([[ 3.1],\n       [ 4.2],\n       [ 6.1],\n       [ 3.3],\n       [ 4.5],\n       [ 6.9],\n       [ 6.8],\n       [ 1.4],\n       [ 3.3],\n       [12.2],\n       [15.1],\n       [ 5.3],\n       [ 2.7],\n       [ 9.5],\n       [ 2.4]])"
          },
          "metadata": {}
        }
      ]
    },
    {
      "metadata": {
        "trusted": true
      },
      "cell_type": "code",
      "source": "Y_test",
      "execution_count": 193,
      "outputs": [
        {
          "output_type": "execute_result",
          "execution_count": 193,
          "data": {
            "text/plain": "array([[1.1],\n       [0.6],\n       [1. ],\n       [0.7],\n       [0.6],\n       [0.6],\n       [0.7],\n       [0.8],\n       [1.1],\n       [2.2],\n       [2.1],\n       [0.6],\n       [0.7],\n       [1.4],\n       [1.3]])"
          },
          "metadata": {}
        }
      ]
    },
    {
      "metadata": {
        "trusted": true
      },
      "cell_type": "code",
      "source": "from sklearn.linear_model import LinearRegression\nlr=LinearRegression()\nlr.fit(X_train, Y_train)",
      "execution_count": 176,
      "outputs": [
        {
          "output_type": "execute_result",
          "execution_count": 176,
          "data": {
            "text/plain": "LinearRegression(copy_X=True, fit_intercept=True, n_jobs=1, normalize=False)"
          },
          "metadata": {}
        }
      ]
    },
    {
      "metadata": {
        "trusted": true
      },
      "cell_type": "code",
      "source": "print('Intercept:', lr.intercept_)\nprint('Coefficient:',lr.coef_ )",
      "execution_count": 178,
      "outputs": [
        {
          "output_type": "stream",
          "text": "Intercept: [0.19805843]\nCoefficient: [[0.12785521]]\n",
          "name": "stdout"
        }
      ]
    },
    {
      "metadata": {},
      "cell_type": "markdown",
      "source": "Y = 0.1278X + 0.1980"
    },
    {
      "metadata": {
        "trusted": true
      },
      "cell_type": "code",
      "source": "Y_pred=lr.predict(X_test)",
      "execution_count": 179,
      "outputs": []
    },
    {
      "metadata": {
        "trusted": true
      },
      "cell_type": "code",
      "source": "import matplotlib.pyplot as plt\nc = [i for i in range (1, 16, 1)]\nfig = plt.figure()\nplt.plot(c, Y_test, color=\"blue\", linewidth=2.5, linestyle=\"-\")\nplt.plot(c, Y_pred, color=\"red\", linewidth=2.5, linestyle=\"-\")\nfig.suptitle('Actual Vs Predicted, fontsize=20')\nplt.xlabel('Index', fontsize=18)\nplt.xlabel('Illiteracy', fontsize=18)",
      "execution_count": 184,
      "outputs": [
        {
          "output_type": "execute_result",
          "execution_count": 184,
          "data": {
            "text/plain": "Text(0.5, 0, 'Illiteracy')"
          },
          "metadata": {}
        },
        {
          "output_type": "display_data",
          "data": {
            "image/png": "[encoded data removed]",
            "text/plain": "<Figure size 432x288 with 1 Axes>"
          },
          "metadata": {
            "needs_background": "light"
          }
        }
      ]
    },
    {
      "metadata": {
        "trusted": true
      },
      "cell_type": "code",
      "source": "c = [i for i in range (1, 16, 1)]\nfig = plt.figure()\nplt.plot(c, Y_test-Y_pred, color=\"blue\", linewidth=2.5, linestyle=\"-\")\nfig.suptitle('Error', fontsize=20)\nplt.xlabel('Index', fontsize=18)\nplt.xlabel('Illiteracy', fontsize=18)",
      "execution_count": 186,
      "outputs": [
        {
          "output_type": "execute_result",
          "execution_count": 186,
          "data": {
            "text/plain": "Text(0.5, 0, 'Illiteracy')"
          },
          "metadata": {}
        },
        {
          "output_type": "display_data",
          "data": {
            "image/png": "[encoded data removed]",
            "text/plain": "<Figure size 432x288 with 1 Axes>"
          },
          "metadata": {
            "needs_background": "light"
          }
        }
      ]
    },
    {
      "metadata": {
        "trusted": true
      },
      "cell_type": "code",
      "source": "from sklearn.metrics import mean_squared_error, r2_score",
      "execution_count": 187,
      "outputs": []
    },
    {
      "metadata": {
        "trusted": true
      },
      "cell_type": "code",
      "source": "mse = mean_squared_error(Y_test, Y_pred)\nr_squared = r2_score(Y_test, Y_pred)",
      "execution_count": 188,
      "outputs": []
    },
    {
      "metadata": {
        "trusted": true
      },
      "cell_type": "code",
      "source": "print('MSE:', mse)\nprint('R_Square:', r_squared)",
      "execution_count": 189,
      "outputs": [
        {
          "output_type": "stream",
          "text": "MSE: 0.13433231020592057\nR_Square: 0.47708010732989414\n",
          "name": "stdout"
        }
      ]
    },
    {
      "metadata": {
        "trusted": true
      },
      "cell_type": "code",
      "source": "plt.scatter(Y_test, Y_pred)\nplt.xlabel('Y Test')\nplt.ylabel('Predicted Y')",
      "execution_count": 191,
      "outputs": [
        {
          "output_type": "execute_result",
          "execution_count": 191,
          "data": {
            "text/plain": "Text(0, 0.5, 'Predicted Y')"
          },
          "metadata": {}
        },
        {
          "output_type": "display_data",
          "data": {
            "image/png": "[encoded data removed]",
            "text/plain": "<Figure size 432x288 with 1 Axes>"
          },
          "metadata": {
            "needs_background": "light"
          }
        }
      ]
    },
    {
      "metadata": {
        "trusted": true
      },
      "cell_type": "code",
      "source": "",
      "execution_count": null,
      "outputs": []
    }
  ],
  "metadata": {
    "kernelspec": {
      "name": "python36",
      "display_name": "Python 3.6",
      "language": "python"
    },
    "language_info": {
      "mimetype": "text/x-python",
      "nbconvert_exporter": "python",
      "name": "python",
      "pygments_lexer": "ipython3",
      "version": "3.6.6",
      "file_extension": ".py",
      "codemirror_mode": {
        "version": 3,
        "name": "ipython"
      }
    }
  },
  "nbformat": 4,
  "nbformat_minor": 2
}